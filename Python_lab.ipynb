{
  "nbformat": 4,
  "nbformat_minor": 0,
  "metadata": {
    "colab": {
      "name": "Python lab.ipynb",
      "provenance": [],
      "collapsed_sections": [],
      "include_colab_link": true
    },
    "kernelspec": {
      "name": "python3",
      "display_name": "Python 3"
    },
    "language_info": {
      "name": "python"
    }
  },
  "cells": [
    {
      "cell_type": "markdown",
      "metadata": {
        "id": "view-in-github",
        "colab_type": "text"
      },
      "source": [
        "<a href=\"https://colab.research.google.com/github/Mrdecent08/Python-Lab/blob/main/Python_lab.ipynb\" target=\"_parent\"><img src=\"https://colab.research.google.com/assets/colab-badge.svg\" alt=\"Open In Colab\"/></a>"
      ]
    },
    {
      "cell_type": "code",
      "metadata": {
        "id": "PblJXOdgvOp2",
        "colab": {
          "base_uri": "https://localhost:8080/"
        },
        "outputId": "60c1258f-8752-4c9d-e0f4-d15f9e3600d3"
      },
      "source": [
        "num = int(input(\"Enter a number :\"))\n",
        "if num == 1:\n",
        "    look = \"Python\"\n",
        "    print(look)\n",
        "elif num == 2:\n",
        "    look = \"Day-1\"\n",
        "    print(look)"
      ],
      "execution_count": null,
      "outputs": [
        {
          "output_type": "stream",
          "text": [
            "Enter a number :1\n",
            "Python\n"
          ],
          "name": "stdout"
        }
      ]
    },
    {
      "cell_type": "code",
      "metadata": {
        "id": "rk5EDDiKvr18",
        "colab": {
          "base_uri": "https://localhost:8080/"
        },
        "outputId": "4cd4f2bf-90e0-4b4b-8f01-5b0d8d888bd7"
      },
      "source": [
        "number = int(input(\"Enter a number: \"))\n",
        "if number>=0:\n",
        "    print(\"Positive\")\n",
        "else:\n",
        "    print(\"Negative\")\n"
      ],
      "execution_count": null,
      "outputs": [
        {
          "output_type": "stream",
          "text": [
            "Enter a number: 3\n",
            "Positive\n"
          ],
          "name": "stdout"
        }
      ]
    },
    {
      "cell_type": "code",
      "metadata": {
        "id": "kSMClHB4vwEr",
        "colab": {
          "base_uri": "https://localhost:8080/"
        },
        "outputId": "2fec0601-fde5-41c6-a215-9ed1be2dc526"
      },
      "source": [
        "num1 = int(input(\"Enter number 1: \"))\n",
        "num2 = int(input(\"Enter number 2: \"))\n",
        "num3 = int(input(\"Enter number 3: \"))\n",
        "if num1 >= num2 and num1 >= num3:\n",
        "    print(str(num1)+ \"is greatest\")\n",
        "elif num2 >= num1 and num2 >= num3:\n",
        "    print(str(num2)+ \"is greatest\")\n",
        "else:\n",
        "    print(str(num3)+ \"is greatest\")\n"
      ],
      "execution_count": null,
      "outputs": [
        {
          "output_type": "stream",
          "text": [
            "Enter number 1: 3\n",
            "Enter number 2: 6\n",
            "Enter number 3: 1\n",
            "6is greatest\n"
          ],
          "name": "stdout"
        }
      ]
    },
    {
      "cell_type": "code",
      "metadata": {
        "id": "lodktShkvwBq",
        "colab": {
          "base_uri": "https://localhost:8080/"
        },
        "outputId": "f6279538-dd62-4fa9-e6f3-69d3bff950e1"
      },
      "source": [
        "sum =0\n",
        "for i in range(1,51):\n",
        "     if (i%2==0):\n",
        "         print(i)\n",
        "         sum += i\n",
        "print(\"Sum is \"+str(sum)) "
      ],
      "execution_count": null,
      "outputs": [
        {
          "output_type": "stream",
          "text": [
            "2\n",
            "4\n",
            "6\n",
            "8\n",
            "10\n",
            "12\n",
            "14\n",
            "16\n",
            "18\n",
            "20\n",
            "22\n",
            "24\n",
            "26\n",
            "28\n",
            "30\n",
            "32\n",
            "34\n",
            "36\n",
            "38\n",
            "40\n",
            "42\n",
            "44\n",
            "46\n",
            "48\n",
            "50\n",
            "Sum is 650\n"
          ],
          "name": "stdout"
        }
      ]
    },
    {
      "cell_type": "code",
      "metadata": {
        "id": "hlbebjXevv-p",
        "colab": {
          "base_uri": "https://localhost:8080/"
        },
        "outputId": "5d47937e-0807-476d-b32e-a2cffa4940d9"
      },
      "source": [
        "    print(\"Prime numbers are : \")\n",
        "    for i in range(20,50):\n",
        "      x = 0\n",
        "      for j in range(1,i):\n",
        "        if(i%j==0):\n",
        "          x+=1\n",
        "      if(x==1) :\n",
        "        print(i)  "
      ],
      "execution_count": null,
      "outputs": [
        {
          "output_type": "stream",
          "text": [
            "Prime numbers are : \n",
            "23\n",
            "29\n",
            "31\n",
            "37\n",
            "41\n",
            "43\n",
            "47\n"
          ],
          "name": "stdout"
        }
      ]
    },
    {
      "cell_type": "code",
      "metadata": {
        "id": "4KOMw5iMvv7m",
        "colab": {
          "base_uri": "https://localhost:8080/"
        },
        "outputId": "b1d75a84-6b40-477f-a402-9351a6fde93d"
      },
      "source": [
        "a = input()\n",
        "b = input()\n",
        "print ('Before swapping valuyes of a and b are : '+a+' '+b)\n",
        "a,b = b,a   \n",
        "print ('After swapping valuyes of a and b are : '+a+' '+b)"
      ],
      "execution_count": null,
      "outputs": [
        {
          "output_type": "stream",
          "text": [
            "3\n",
            "6\n",
            "Before swapping valuyes of a and b are : 3 6\n",
            "After swapping valuyes of a and b are : 6 3\n"
          ],
          "name": "stdout"
        }
      ]
    },
    {
      "cell_type": "code",
      "metadata": {
        "id": "oler5fg2vv4p",
        "colab": {
          "base_uri": "https://localhost:8080/"
        },
        "outputId": "b2db76a5-33f1-456f-f42b-115aae4f9501"
      },
      "source": [
        "def sm(a,b):\n",
        "    return a+b , a*b\n",
        "a= int(input())\n",
        "b= int(input())\n",
        "c , d = sm(a,b)\n",
        "print('Sum is '+str(c)+' Multiplication value is '+str(d))"
      ],
      "execution_count": null,
      "outputs": [
        {
          "output_type": "stream",
          "text": [
            "5\n",
            "1\n",
            "Sum is 6 Multiplication value is 5\n"
          ],
          "name": "stdout"
        }
      ]
    },
    {
      "cell_type": "code",
      "metadata": {
        "id": "j2yrZo_fvv1V",
        "colab": {
          "base_uri": "https://localhost:8080/"
        },
        "outputId": "e5f20be0-3e7b-4334-e481-5fb5402224b2"
      },
      "source": [
        "x = int(input())\n",
        "y = int(input())\n",
        "adder = lambda x,y: x+y\n",
        "print(\"Sum is \"+ str(adder(x,y)))"
      ],
      "execution_count": null,
      "outputs": [
        {
          "output_type": "stream",
          "text": [
            "3\n",
            "8\n",
            "Sum is 11\n"
          ],
          "name": "stdout"
        }
      ]
    },
    {
      "cell_type": "code",
      "metadata": {
        "id": "IVoK5erqvvyS",
        "colab": {
          "base_uri": "https://localhost:8080/"
        },
        "outputId": "1933e42b-3d82-4122-b1b6-2ceda354abfc"
      },
      "source": [
        "def intro(name , dept = 'cse'):\n",
        "    print('Name is '+name+' and department is '+dept)\n",
        "intro('Surya' , 'it')\n",
        "intro('Aditya')"
      ],
      "execution_count": null,
      "outputs": [
        {
          "output_type": "stream",
          "text": [
            "Name is Surya and department is it\n",
            "Name is Aditya and department is cse\n"
          ],
          "name": "stdout"
        }
      ]
    },
    {
      "cell_type": "code",
      "metadata": {
        "id": "bRIp8Gtevvvc",
        "colab": {
          "base_uri": "https://localhost:8080/"
        },
        "outputId": "024c3d13-6bfe-4f88-ca80-b3895ef73c2d"
      },
      "source": [
        "n = int(input(\"Enter number of rows : \"))\n",
        "for i in range(1,n+1):\n",
        "    for j in range(0,i):\n",
        "        print('*' , end = '')\n",
        "    print()"
      ],
      "execution_count": null,
      "outputs": [
        {
          "output_type": "stream",
          "text": [
            "Enter number of rows : 4\n",
            "*\n",
            "**\n",
            "***\n",
            "****\n"
          ],
          "name": "stdout"
        }
      ]
    },
    {
      "cell_type": "code",
      "metadata": {
        "id": "fdFszwzDvvsR",
        "colab": {
          "base_uri": "https://localhost:8080/"
        },
        "outputId": "62ec0c9f-9a8a-4d06-ec36-81dc20346000"
      },
      "source": [
        "for i in (8,15,69):\n",
        "   print(str(i)+\" multliplication table\") \n",
        "   for j in range(1,11):\n",
        "       print(str(i)+\" x \"+str(j)+\" = \"+str(i*j))\n",
        "   print()  "
      ],
      "execution_count": null,
      "outputs": [
        {
          "output_type": "stream",
          "text": [
            "8 multliplication table\n",
            "8 x 1 = 8\n",
            "8 x 2 = 16\n",
            "8 x 3 = 24\n",
            "8 x 4 = 32\n",
            "8 x 5 = 40\n",
            "8 x 6 = 48\n",
            "8 x 7 = 56\n",
            "8 x 8 = 64\n",
            "8 x 9 = 72\n",
            "8 x 10 = 80\n",
            "\n",
            "15 multliplication table\n",
            "15 x 1 = 15\n",
            "15 x 2 = 30\n",
            "15 x 3 = 45\n",
            "15 x 4 = 60\n",
            "15 x 5 = 75\n",
            "15 x 6 = 90\n",
            "15 x 7 = 105\n",
            "15 x 8 = 120\n",
            "15 x 9 = 135\n",
            "15 x 10 = 150\n",
            "\n",
            "69 multliplication table\n",
            "69 x 1 = 69\n",
            "69 x 2 = 138\n",
            "69 x 3 = 207\n",
            "69 x 4 = 276\n",
            "69 x 5 = 345\n",
            "69 x 6 = 414\n",
            "69 x 7 = 483\n",
            "69 x 8 = 552\n",
            "69 x 9 = 621\n",
            "69 x 10 = 690\n",
            "\n"
          ],
          "name": "stdout"
        }
      ]
    },
    {
      "cell_type": "code",
      "metadata": {
        "id": "5I2pujz-vvpT",
        "colab": {
          "base_uri": "https://localhost:8080/"
        },
        "outputId": "24edcb41-4aab-4586-b4c9-7aed96f86917"
      },
      "source": [
        "string = input()\n",
        "length = 0\n",
        "for i in string:\n",
        "    length+=1\n",
        "print('Length of string is '+str(length))"
      ],
      "execution_count": null,
      "outputs": [
        {
          "output_type": "stream",
          "text": [
            "Srinivas\n",
            "Length of string is 8\n"
          ],
          "name": "stdout"
        }
      ]
    },
    {
      "cell_type": "code",
      "metadata": {
        "id": "25I8Bqr1vvmV",
        "colab": {
          "base_uri": "https://localhost:8080/"
        },
        "outputId": "1398d3e5-6672-4771-e782-eb82327e7c1c"
      },
      "source": [
        "a = input()\n",
        "b = input()\n",
        "print('Anagram') if sorted(a) == sorted(b) else print('Not a Anagram')"
      ],
      "execution_count": null,
      "outputs": [
        {
          "output_type": "stream",
          "text": [
            "listen\n",
            "netsli\n",
            "Anagram\n"
          ],
          "name": "stdout"
        }
      ]
    },
    {
      "cell_type": "code",
      "metadata": {
        "id": "gjXDMb7qvvjQ",
        "colab": {
          "base_uri": "https://localhost:8080/"
        },
        "outputId": "98c6a6c7-f689-47bb-a12f-b2e7858741b6"
      },
      "source": [
        "string = input(\"Enter a string : \")\n",
        "sub_string = input(\"Enter the sub-string : \")\n",
        "if sub_string in string:\n",
        "    print(\"Sub-string is present in the string.\")\n",
        "else:\n",
        "    print(\"Sub-string is not present in the string.\")"
      ],
      "execution_count": null,
      "outputs": [
        {
          "output_type": "stream",
          "text": [
            "Enter a string : python\n",
            "Enter the sub-string : py\n",
            "Sub-string is present in the string.\n"
          ],
          "name": "stdout"
        }
      ]
    },
    {
      "cell_type": "code",
      "metadata": {
        "id": "Mgokvolovvf_",
        "colab": {
          "base_uri": "https://localhost:8080/"
        },
        "outputId": "2cf5475b-af69-47d7-aed0-5df44a907723"
      },
      "source": [
        "a = list(map(int,input(\"list 1 = \").split()))\n",
        "b = list(map(int,input(\"list 2 = \").split()))\n",
        "c = a+b\n",
        "print(\"list after addition is\",c)\n",
        "c.insert(3,0)\n",
        "print(\"list after inserting 0 at 3rd postion is\",c)\n",
        "print(\"list slicing from 1 to 5\",c[1:6])"
      ],
      "execution_count": null,
      "outputs": [
        {
          "output_type": "stream",
          "text": [
            "list 1 = 1 3 4\n",
            "list 2 = 2 9 6\n",
            "list after addition is [1, 3, 4, 2, 9, 6]\n",
            "list after inserting 0 at 3rd postion is [1, 3, 4, 0, 2, 9, 6]\n",
            "list slicing from 1 to 5 [3, 4, 0, 2, 9]\n"
          ],
          "name": "stdout"
        }
      ]
    },
    {
      "cell_type": "code",
      "metadata": {
        "id": "ojtR4P4dvvdH",
        "colab": {
          "base_uri": "https://localhost:8080/"
        },
        "outputId": "2defac83-b447-4c5d-d490-cb9016353133"
      },
      "source": [
        "a = list(map(int,input(\"list = \").split()))\n",
        "print(\"length of list =\",len(a))\n",
        "print(\"max element in the list\",max(a))\n",
        "print(\"min element in the list\",min(a))\n",
        "print(\"list after sorting is \",sorted(a))\n",
        "print(\"list slicing \",a[1:len(a)-2])"
      ],
      "execution_count": null,
      "outputs": [
        {
          "output_type": "stream",
          "text": [
            "list = 2 5 1 9 8\n",
            "length of list = 5\n",
            "max element in the list 9\n",
            "min element in the list 1\n",
            "list after sorting is  [1, 2, 5, 8, 9]\n",
            "list slicing  [5, 1]\n"
          ],
          "name": "stdout"
        }
      ]
    },
    {
      "cell_type": "code",
      "metadata": {
        "id": "jmCWfuhhvvZ7",
        "colab": {
          "base_uri": "https://localhost:8080/"
        },
        "outputId": "718be6b9-43ba-4150-da28-18c28991bdcd"
      },
      "source": [
        "a = list(map(int,input(\"list = \").split()))\n",
        "even = list(i for i in a if i%2==0)\n",
        "print(even)"
      ],
      "execution_count": null,
      "outputs": [
        {
          "output_type": "stream",
          "text": [
            "list = 2 3 4 5 6 7 8 10\n",
            "[2, 4, 6, 8, 10]\n"
          ],
          "name": "stdout"
        }
      ]
    },
    {
      "cell_type": "code",
      "metadata": {
        "colab": {
          "base_uri": "https://localhost:8080/"
        },
        "id": "ySh73iqF9h47",
        "outputId": "ec13f673-d1e9-4b3b-da24-2f3f93028137"
      },
      "source": [
        "a=list(map(int,input(\"Enter space separated integers: \").split()))\n",
        "b=list(map(int,input(\"Enter space separated integers: \").split()))\n",
        "c=[]\n",
        "m=len(a)\n",
        "n=len(b)\n",
        "if m>n:\n",
        "    for i in range(n):\n",
        "        c.append(a[i])\n",
        "        c.append(b[i])\n",
        "    for j in range(i+1,m):\n",
        "        c.append(a[j])\n",
        "else:\n",
        "    for i in range(m):\n",
        "        c.append(a[i])\n",
        "        c.append(b[i])\n",
        "    for j in range(i+1,n):\n",
        "        c.append(b[j])\n",
        "print(c)\n",
        "\n"
      ],
      "execution_count": null,
      "outputs": [
        {
          "output_type": "stream",
          "text": [
            "Enter space separated integers: 1 3 5 7 9 \n",
            "Enter space separated integers: 2 4 6 8\n",
            "[1, 2, 3, 4, 5, 6, 7, 8, 9]\n"
          ],
          "name": "stdout"
        }
      ]
    },
    {
      "cell_type": "code",
      "metadata": {
        "id": "5-yi1bzMvvV5",
        "colab": {
          "base_uri": "https://localhost:8080/"
        },
        "outputId": "274bfe9a-c69d-422b-e04f-418abc9abb11"
      },
      "source": [
        "person1 = (\"Himanshu\", 24, \"234 LosAngels America\", \"LosAngelsCol\")\n",
        "person2 = (\"Rohith\", 23, \"34/56 BigStreet Banglore\", \"IIMB\")\n",
        "print(\"Tuple1 is \"+ str(person1))\n",
        "print(\"Tuple2 is \"+ str(person2))\n",
        "persons = person1 + person2\n",
        "print(\"Concatenate Tuple is\"+ str(person1))"
      ],
      "execution_count": null,
      "outputs": [
        {
          "output_type": "stream",
          "text": [
            "Tuple1 is ('Himanshu', 24, '234 LosAngels America', 'LosAngelsCol')\n",
            "Tuple2 is ('Rohith', 23, '34/56 BigStreet Banglore', 'IIMB')\n",
            "Concatenate Tuple is('Himanshu', 24, '234 LosAngels America', 'LosAngelsCol')\n"
          ],
          "name": "stdout"
        }
      ]
    },
    {
      "cell_type": "code",
      "metadata": {
        "id": "sTIONQJ1vvOR"
      },
      "source": [
        "def count(str):\n",
        "    d = dict()\n",
        "    for i in str:\n",
        "        if i in d.keys():\n",
        "           d[i] += 1\n",
        "        else :\n",
        "            d[i] = 1\n",
        "    return d \n",
        "l = []\n",
        "a = count(input(\"enter string : \"))\n",
        "for i in range(int(input(\"enter n : \"))):\n",
        "    m =  max(a.values())\n",
        "    l.append({key:val for key, val in a.items() if val == m})\n",
        "    a = {key:val for key, val in a.items() if val != max(a.values())}\n",
        "print(l)"
      ],
      "execution_count": null,
      "outputs": []
    },
    {
      "cell_type": "code",
      "metadata": {
        "id": "fEXowfO3vuh0",
        "colab": {
          "base_uri": "https://localhost:8080/"
        },
        "outputId": "7d9eacf7-0af4-4338-ef84-496912ccd1b4"
      },
      "source": [
        "s = input(\"Enter a string: \")\n",
        "vowels = \"aeiouAEIOU\"\n",
        "count = 0\n",
        "for i in s:\n",
        "  if i in vowels:\n",
        "    count=count+1\n",
        "print(\"The number of vowels in \"+s+\" is \"+str(count))"
      ],
      "execution_count": null,
      "outputs": [
        {
          "output_type": "stream",
          "text": [
            "Enter a string: python\n",
            "The number of vowels in python is 1\n"
          ],
          "name": "stdout"
        }
      ]
    },
    {
      "cell_type": "code",
      "metadata": {
        "id": "itExzlAK0ecB",
        "colab": {
          "base_uri": "https://localhost:8080/"
        },
        "outputId": "7b92a6c0-31a3-44d3-c9f3-cef400bb5ef5"
      },
      "source": [
        "str1 = input(\"Enter string1: \")\n",
        "str2 = input(\"Enter string2: \")\n",
        "common = set(str1).intersection(set(str2))\n",
        "print(\"Common letters are :\" + str(common))\n"
      ],
      "execution_count": null,
      "outputs": [
        {
          "output_type": "stream",
          "text": [
            "Enter string1: python\n",
            "Enter string2: pycharm\n",
            "Common letters are :{'y', 'h', 'p'}\n"
          ],
          "name": "stdout"
        }
      ]
    },
    {
      "cell_type": "code",
      "metadata": {
        "id": "l7tNNVEL0eY3",
        "colab": {
          "base_uri": "https://localhost:8080/"
        },
        "outputId": "76d72da1-9807-4dcd-d932-60dbac000471"
      },
      "source": [
        "vowels = \"aeiouAEIOU\"\n",
        "def vowelcount(x):\n",
        "  count = 0\n",
        "  for i in s:\n",
        "    if i in vowels:\n",
        "      count=count+1\n",
        "    return count\n",
        "\n",
        "s = input(\"Enter multiple strings :\").split()\n",
        "print(sorted(s,key=vowelcount))"
      ],
      "execution_count": null,
      "outputs": [
        {
          "output_type": "stream",
          "text": [
            "Enter multiple strings :pyhton java kotlin\n",
            "['pyhton', 'java', 'kotlin']\n"
          ],
          "name": "stdout"
        }
      ]
    },
    {
      "cell_type": "code",
      "metadata": {
        "id": "YoeK9Lyw0eV9",
        "colab": {
          "base_uri": "https://localhost:8080/"
        },
        "outputId": "81ba3843-3e05-4937-c8f3-bb44513dd23d"
      },
      "source": [
        "n = int(input(\"Enter a number: \"))\n",
        "dict = {}\n",
        "for i in range(1,n+1):\n",
        "    dict[i] = i**2\n",
        "print(\"Required Dictionary is \")\n",
        "print(dict)\n"
      ],
      "execution_count": null,
      "outputs": [
        {
          "output_type": "stream",
          "text": [
            "Enter a number: 4\n",
            "Required Dictionary is \n",
            "{1: 1, 2: 4, 3: 9, 4: 16}\n"
          ],
          "name": "stdout"
        }
      ]
    },
    {
      "cell_type": "code",
      "metadata": {
        "id": "8NXfuD7a0eTE",
        "colab": {
          "base_uri": "https://localhost:8080/"
        },
        "outputId": "15721e20-800a-4cbe-eda6-5ebac4d5e47c"
      },
      "source": [
        "dict = {1: 1, 2: 4, 3: 9, 4: 16, 5: 25}\n",
        "key = int(input(\"Enter a key: \"))\n",
        "if key in dict.keys():\n",
        "    print(\"Key is present\")\n",
        "else:\n",
        "    print(\"Key is not present\")\n"
      ],
      "execution_count": null,
      "outputs": [
        {
          "output_type": "stream",
          "text": [
            "Enter a key: 2\n",
            "Key is present\n"
          ],
          "name": "stdout"
        }
      ]
    },
    {
      "cell_type": "code",
      "metadata": {
        "id": "KWk6YHS30eQI",
        "colab": {
          "base_uri": "https://localhost:8080/"
        },
        "outputId": "1a03f6b7-0094-4e93-a512-2f0f726f1f59"
      },
      "source": [
        "dict = {1: 1, 2: 4, 3: 9, 4: 16, 5: 25}\n",
        "print(\"Initial Dictionary is :\"+ str(dict))\n",
        "key = int(input(\"Enter new key: \"))\n",
        "val = int(input(\"Enter a value: \"))\n",
        "dict[key] = val\n",
        "print(\"Final Dictionary is :\"+ str(dict))\n"
      ],
      "execution_count": null,
      "outputs": [
        {
          "output_type": "stream",
          "text": [
            "Initial Dictionary is :{1: 1, 2: 4, 3: 9, 4: 16, 5: 25}\n",
            "Enter new key: 6\n",
            "Enter a value: 10\n",
            "Final Dictionary is :{1: 1, 2: 4, 3: 9, 4: 16, 5: 25, 6: 10}\n"
          ],
          "name": "stdout"
        }
      ]
    },
    {
      "cell_type": "code",
      "metadata": {
        "id": "3SPDH5n50eNW",
        "colab": {
          "base_uri": "https://localhost:8080/"
        },
        "outputId": "0ffe8f26-fe78-4b32-d670-d0455857da94"
      },
      "source": [
        "n = int(input(\"enter the size of dictionary : \"))\n",
        "sum = 0\n",
        "\n",
        "dict = {}\n",
        "for i in range(n):\n",
        "    key = int(input(\"enter a new key : \"))\n",
        "    value = int(input(\"enter a new value : \"))\n",
        "    dict[key] = value\n",
        "for i in dict.values():\n",
        "  sum = sum+i\n",
        "print(\"Sum is \"+str(sum))  "
      ],
      "execution_count": null,
      "outputs": [
        {
          "output_type": "stream",
          "text": [
            "enter the size of dictionary : 3\n",
            "enter a new key : 1\n",
            "enter a new value : 2\n",
            "enter a new key : 2\n",
            "enter a new value : 4\n",
            "enter a new key : 3\n",
            "enter a new value : 6\n",
            "Sum is 12\n"
          ],
          "name": "stdout"
        }
      ]
    },
    {
      "cell_type": "code",
      "metadata": {
        "id": "AshiNfKg0eKg",
        "colab": {
          "base_uri": "https://localhost:8080/"
        },
        "outputId": "8ec1a013-345a-4224-bb25-b5d30b9594e5"
      },
      "source": [
        "class person() :\n",
        "    def __init__(self,name,age,weight,height) :\n",
        "        self.name = name\n",
        "        self.age = age\n",
        "        self.weight = weight\n",
        "        self.height = height\n",
        "    def get_bmi_result(self):\n",
        "        result = float(self.weight/pow(self.height,2))\n",
        "        if result < 18.5 :\n",
        "            return \"underweight\"\n",
        "        elif result >=18.5 and result < 25:\n",
        "            return \"Healthy\"   \n",
        "        else :\n",
        "            return \"obese\"\n",
        "p = person(input(\"Enter name \"),input(\"Enter age \"),float(input(\"Enter weight in kgs \")),float(input(\"Enter height in meteres \")))            \n",
        "print(p.get_bmi_result())"
      ],
      "execution_count": null,
      "outputs": [
        {
          "output_type": "stream",
          "text": [
            "Enter name srinivas\n",
            "Enter age 18\n",
            "Enter weight in kgs 20\n",
            "Enter height in meteres 128\n",
            "underweight\n"
          ],
          "name": "stdout"
        }
      ]
    },
    {
      "cell_type": "code",
      "metadata": {
        "id": "AJfaTo8_0eHq",
        "colab": {
          "base_uri": "https://localhost:8080/"
        },
        "outputId": "1aa7ff46-849b-4514-c0cd-6a92794082dd"
      },
      "source": [
        "class Circle(object) :\n",
        "    def __init__ (self,radius):\n",
        "        self.radius = radius \n",
        "    def area(self) :\n",
        "        return pow(self.radius,2)*3.14\n",
        "    def perimeter(self) :\n",
        "        return 6.28*self.radius\n",
        "a = Circle(float(input(\"enter radius : \")))     \n",
        "print(\"area of the circle is \",a.area())\n",
        "print(\"perimeter of the circle is \",a.perimeter())"
      ],
      "execution_count": null,
      "outputs": [
        {
          "output_type": "stream",
          "text": [
            "enter radius : 4\n",
            "area of the circle is  50.24\n",
            "perimeter of the circle is  25.12\n"
          ],
          "name": "stdout"
        }
      ]
    },
    {
      "cell_type": "code",
      "metadata": {
        "id": "_Dx97OUj0eFD",
        "colab": {
          "base_uri": "https://localhost:8080/"
        },
        "outputId": "f5012018-72b4-4551-d295-9c20119deed1"
      },
      "source": [
        "import numpy as np\n",
        "a = np.array([1,2])\n",
        "print(\"Array is\")\n",
        "print(a)\n",
        "print(\"Appending a element in the array is \")\n",
        "a = np.append(a,3)\n",
        "print(a)\n",
        "print(\"Inserting a element into array :\")\n",
        "a = np.insert(a,0,111)\n",
        "print(a)\n",
        "print(\"Reversing array :\")\n",
        "print(a[::-1])"
      ],
      "execution_count": null,
      "outputs": [
        {
          "output_type": "stream",
          "text": [
            "Array is\n",
            "[1 2]\n",
            "Appending a element in the array is \n",
            "[1 2 3]\n",
            "Inserting a element into array :\n",
            "[111   1   2   3]\n",
            "Reversing array :\n",
            "[  3   2   1 111]\n"
          ],
          "name": "stdout"
        }
      ]
    },
    {
      "cell_type": "code",
      "metadata": {
        "id": "4eHJJ9P20eCC",
        "colab": {
          "base_uri": "https://localhost:8080/"
        },
        "outputId": "199e0f9f-6825-4cfe-91d6-3934a491d2c7"
      },
      "source": [
        "import numpy as np\n",
        "a = np.array([(1,2,3),(4,5,6),(7,8,9)])\n",
        "b = np.array([(1,0,0),(0,1,0),(0,0,1)])\n",
        "print(\"Matrix Addition\")\n",
        "print(a+b)\n",
        "print(\"Transpose of a matrix\")\n",
        "print(np.transpose(a))\n",
        "print(\"Multiplication of matrices\")\n",
        "print(np.dot(a,b))"
      ],
      "execution_count": null,
      "outputs": [
        {
          "output_type": "stream",
          "text": [
            "Matrix Addition\n",
            "[[ 2  2  3]\n",
            " [ 4  6  6]\n",
            " [ 7  8 10]]\n",
            "Transpose of a matrix\n",
            "[[1 4 7]\n",
            " [2 5 8]\n",
            " [3 6 9]]\n",
            "Multiplication of matrices\n",
            "[[1 2 3]\n",
            " [4 5 6]\n",
            " [7 8 9]]\n"
          ],
          "name": "stdout"
        }
      ]
    }
  ]
}